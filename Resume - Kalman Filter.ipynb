{
 "cells": [
  {
   "cell_type": "markdown",
   "metadata": {},
   "source": [
    "# Problème\n",
    "\n",
    "Comment mieux fusionner deux estimations ?\n",
    "\n",
    "- Prédiction fournie par l’odométrie\n",
    "- Estimation fournie par les perceptions\n",
    "\n",
    "**On cherche à estimer l'état du robot à partir de son évolution et de mesures reliées à cet état.**\n",
    "\n",
    "<table><tr>\n",
    "<td> <img src='img/kalman_problem.png' /> </td>\n",
    "<td> <img src='img/kalman_exemple.png' /> </td>\n",
    "</table></tr>\n",
    "\n",
    "\n",
    "# Filtrage de Kalman\n",
    "\n",
    "- **Etat** : Position $X_t=(x,y,q)$  \n",
    "- **Incertitude** : matrice de covariance $P$ (gaussienne)\n",
    "\n",
    "<img src=\"img/kalman_filter.png\" width=600>\n"
   ]
  },
  {
   "cell_type": "markdown",
   "metadata": {},
   "source": [
    "# Modèle Linéaire\n",
    "\n",
    "\n",
    "- Etat $X$ (dim $n$), contrôle $u$ (dim $l$), observation $Y$ (dim $k$)\n",
    "- Matrices de covariance : $Q$ bruit sur $u$ et $P_Y$ bruit sur $Y$\n",
    "- Evolution de l’état :   $ X_{t+1} = A X_t + B u_t $\n",
    "- Observation de l’état : $ Y_t = H X_t $\n",
    "\n",
    "**Filtre :**\n",
    "\n",
    "**1)** Prédiction de l'état\n",
    "\n",
    "$$\\text{moyenne :  } X_t^* = A \\hat{X}_{t-1} + B u_t $$\n",
    "\n",
    "$$\\text{variance :  } P_t^* = A \\hat{P}_t A^T + B Q B^T $$\n",
    "\n",
    "**2)** Prédiction de l'observation\n",
    "\n",
    "$$ Y_t^* = H X_t^* $$\n",
    "\n",
    "**3)** Correction de la prédiction\n",
    "\n",
    "$$ \\hat{X}_t = X_t^* + K(Y - Y_t^*) $$\n",
    "\n",
    "$$ \\hat{P}_t = P_t^* - K H P_t^* $$\n",
    "\n",
    "$$ \\text{avec le gain de Kalman : } K = P_t^* H^T (H P_t^* H^T + P_Y)^{-1} $$"
   ]
  },
  {
   "cell_type": "code",
   "execution_count": null,
   "metadata": {},
   "outputs": [],
   "source": [
    "def Kalman_update(x_est, P_est, Y_mesure, A, B, H):\n",
    "    \n",
    "    # prediction de l'état\n",
    "    x_pred = A @ x_est + B @ u\n",
    "    P_pred = A @ P_est @ A.T + B @ Q_est @ B.T\n",
    "    \n",
    "    # prediction de l'observation\n",
    "    Y_predit = H @ x_pred \n",
    "    \n",
    "    # correction de la prediction\n",
    "    K     = P_pred @ H.T @ inv(H @ P_pred @ H.T + P_Y_est)\n",
    "    x_est = x_pred + K @ (Y_mesure - Y_predit)\n",
    "    P_est = P_pred - K @ H @ P_pred\n",
    "    \n",
    "    return x_est, P_est"
   ]
  },
  {
   "cell_type": "markdown",
   "metadata": {},
   "source": [
    "# Modèle non Linéaire\n",
    "\n",
    "La prédiction et l'observation sont des fonctions non linéaires $f$ et $h$.   \n",
    "$A$, $B$ et $H$ sont remplacées par les jacobiennes de $f$ et $h$\n",
    "\n",
    "**1)** Prédiction de l'état\n",
    "\n",
    "$$ X_t^* = f(\\hat{X}_{t-1}, u_t) $$\n",
    "\n",
    "$$ P_t^* = A \\hat{P}_t A^T + B Q B^T $$\n",
    "\n",
    "**2)** Prédiction de l'observation\n",
    "\n",
    "$$ Y_t^* = h(X_t^*) $$\n",
    "\n",
    "**3)** Correction de la prédiction\n",
    "\n",
    "$$ \\hat{X}_t = X_t^* + K(Y - Y_t^*) $$\n",
    "\n",
    "$$ \\hat{P}_t = P_t^* - K H P_t^* $$\n",
    "\n",
    "$$ \\text{avec le gain de Kalman : } K = P_t^* H^T (H P_t^* H^T + P_Y)^{-1} $$\n"
   ]
  },
  {
   "cell_type": "code",
   "execution_count": 1,
   "metadata": {
    "ExecuteTime": {
     "end_time": "2020-04-10T23:15:47.830793Z",
     "start_time": "2020-04-10T23:15:47.819080Z"
    }
   },
   "outputs": [],
   "source": [
    "def Kalman_NL_update(x_est, P_est, Y_mesure, f, h):\n",
    "    \n",
    "    # calcul les jacobiennes\n",
    "    A = Jacobienne_fx(x,u)\n",
    "    B = Jacobienne_fu(x,u)\n",
    "    H = Jacobienne_hx(x)\n",
    "    \n",
    "    # prediction de l'état\n",
    "    x_pred = f(x_est, u)\n",
    "    P_pred = A @ P_est @ A.T + B @ Q_est @ B.T\n",
    "    \n",
    "    # prediction de l'observation\n",
    "    Y_predit = h(x_pred)\n",
    "    \n",
    "    # correction de la prediction\n",
    "    K     = P_pred @ H.T @ inv(H @ P_pred @ H.T + P_Y_est)\n",
    "    x_est = x_pred + K @ (Y_mesure - Y_predit)\n",
    "    P_est = P_pred - K @ H @ P_pred\n",
    "    P_est = 0.5 * (P_est + P_est.T) # ensure symetry\n",
    "    \n",
    "    return x_est, P_est"
   ]
  },
  {
   "cell_type": "markdown",
   "metadata": {},
   "source": [
    "# Exemple \n",
    "\n",
    "Robot sur un plan 2D : $ X_t = [ x_t, y_t, \\theta_t ]^T $ et $ u_t = [x_u, y_u, \\theta_u] $\n",
    "\n",
    "$ f(X_t,u_t) = \\left( \\begin{array}{c} x_t + x_u \\cos(\\theta_t) - y_u \\sin(\\theta_t) \\\\ y_t + x_u \\sin(\\theta_t) + y_u \\cos(\\theta_t) \\\\ \\theta_t + \\theta_u \\\\ \\end{array} \\right) $ &emsp; et &emsp; $ h(X_t) = \\left( \\begin{array}{c} \\sqrt{(x_k-x_t)^2+(y_k-y_t)^2} \\\\ atan2(\\frac{y_k-y_t}{x_k-x_t}) - \\theta_t \\\\ \\end{array} \\right) $"
   ]
  },
  {
   "cell_type": "markdown",
   "metadata": {},
   "source": [
    "## Environnement"
   ]
  },
  {
   "cell_type": "code",
   "execution_count": 1,
   "metadata": {
    "ExecuteTime": {
     "end_time": "2020-04-11T10:06:17.862892Z",
     "start_time": "2020-04-11T10:06:17.856907Z"
    }
   },
   "outputs": [],
   "source": [
    "# composes 2 transformations\n",
    "def T_compose(T_ab, T_bc):\n",
    "    somme = AngleWrap(T_ab[2] + T_bc[2])\n",
    "    s     = sin(T_ab[2])\n",
    "    c     = cos(T_ab[2])\n",
    "    T_ac  = T_ab[0:2] + np.array([[c, -s],[s, c]]) @ T_bc[0:2]\n",
    "    T_ac  = np.append(T_ac, somme)\n",
    "    return T_ac\n",
    "\n",
    "# calcul l'inverse d'une transformation\n",
    "def t_inverse(T_ab):\n",
    "    s    = sin(T_ab[2])\n",
    "    c    = cos(T_ab[2])\n",
    "    T_ba = np.array([-T_ab[0]*c - T_ab[1]*s, T_ab[0]*s - T_ab[1]*c, -T_ab[2]])\n",
    "    return T_ba\n",
    "\n",
    "def T_inverse(T_ab):\n",
    "    T_ba = 0.0 * T_ab;\n",
    "    for t in range(0, T_ba.shape[0], 3):\n",
    "        T_ba[t:t+3] = t_inverse(T_ab[t:t+3])\n",
    "    return T_ba\n",
    "\n",
    "# construit une mesure d'odométrie\n",
    "def GetRobotControl(k):\n",
    "    u = np.array([0, 0.025, 0.1 * np.pi/180 * math.sin(3*np.pi*k/nSteps)])\n",
    "    return u\n",
    "\n",
    "def GetOdometry(k):\n",
    "    u           = GetRobotControl(k)\n",
    "    x_odom_now  = T_compose(x_odom_prev, u)\n",
    "    u_noise     = np.sqrt(Q_true) @ randn(3)\n",
    "    x_odom_now  = T_compose(x_odom_now, u_noise)\n",
    "    x_odom_prev = x_odom_now\n",
    "    return xnow\n",
    "\n",
    "\n",
    "\n",
    "def SimulateWorld(k):\n",
    "    u         = GetRobotControl(k)\n",
    "    x_true    = T_compose(x_true, u)\n",
    "    x_true[2] = AngleWrap(x_true[2])"
   ]
  },
  {
   "cell_type": "markdown",
   "metadata": {},
   "source": [
    "## Initialisation"
   ]
  },
  {
   "cell_type": "code",
   "execution_count": null,
   "metadata": {},
   "outputs": [],
   "source": [
    "nSteps = 10000\n",
    "\n",
    "# génère des amers\n",
    "amers = 140 * rand(2,20) - 70\n",
    "plt.cla()\n",
    "plt.plot(amers[0,:], amers[1,:],'*g', markersize=15)\n",
    "plt.text(amers[0,:] + 2, amers[1,:] + 2,'amer', color='green', fontsize=15)\n",
    "\n",
    "# vraie covariance des erreurs utilisées pour simuler les mouvements du robot\n",
    "Q_true  = np.diag([0.01, 0.01, 1*math.pi/180]) ** 2\n",
    "PY_true = diag([2.0, 3*math.pi/180]) ** 2\n",
    "\n",
    "# erreurs estimée pour le filtre de Kalman\n",
    "Q_est  = Q_true  + Q_true * (8/10)\n",
    "PY_est = PY_true - PY_true * (8/10)\n",
    "\n",
    "# conditions initiales\n",
    "x_true      = np.array([1,-40,-math.pi/2])\n",
    "x_odom_prev = x_true\n",
    "x_est = np.array([0,0,0])\n",
    "P_est = np.diag([1,1,1*(math.pi/180)**2])"
   ]
  },
  {
   "cell_type": "markdown",
   "metadata": {},
   "source": [
    "## Main Loop"
   ]
  },
  {
   "cell_type": "code",
   "execution_count": null,
   "metadata": {},
   "outputs": [],
   "source": [
    "for k in range(1, nSteps):\n",
    "    \n",
    "    # simulation\n",
    "    SimulateWorld(k)\n",
    "    \n",
    "    # trouve le contrôle en soustrayant l'actuelle et la précédente valeur d'odométrie\n",
    "    x_odom_now  = GetOdometry(k)\n",
    "    u           = T_compose(T_inverse(x_odom_prev), x_odom_now)\n",
    "    x_odom_prev = x_odom_now\n",
    "    \n",
    "    # observe a random feature\n",
    "    [y_mesure, iFeature] = GetObservation(k)\n",
    "    \n",
    "    def h(x, amer):\n",
    "        distance = norm(amer[0:2] - x[0:2])\n",
    "        z        = np.array([distance, AngleWrap(atan2(distance[1], distance[0]) - x[2])])\n",
    "        return z\n",
    "\n",
    "    def f(x_est, u):\n",
    "        return x_pred = T_compose(x_est, u)\n",
    "    \n",
    "    # mise à jour avec Kalman\n",
    "    x_est, P_est = Kalman_NL_update(x_est, P_est, Y_mesure, f, h)\n",
    "            \n",
    "    # plot every 200 updates\n",
    "    if (k-2) % 75 == 0:\n",
    "        DoVehicleGraphics(x_est, P_est[0:2,0:2],8,[0,1])"
   ]
  }
 ],
 "metadata": {
  "kernelspec": {
   "display_name": "Python 3",
   "language": "python",
   "name": "python3"
  },
  "language_info": {
   "codemirror_mode": {
    "name": "ipython",
    "version": 3
   },
   "file_extension": ".py",
   "mimetype": "text/x-python",
   "name": "python",
   "nbconvert_exporter": "python",
   "pygments_lexer": "ipython3",
   "version": "3.7.4"
  },
  "toc": {
   "base_numbering": 1,
   "nav_menu": {},
   "number_sections": true,
   "sideBar": true,
   "skip_h1_title": false,
   "title_cell": "Table of Contents",
   "title_sidebar": "Contents",
   "toc_cell": false,
   "toc_position": {},
   "toc_section_display": true,
   "toc_window_display": true
  },
  "varInspector": {
   "cols": {
    "lenName": 16,
    "lenType": 16,
    "lenVar": 40
   },
   "kernels_config": {
    "python": {
     "delete_cmd_postfix": "",
     "delete_cmd_prefix": "del ",
     "library": "var_list.py",
     "varRefreshCmd": "print(var_dic_list())"
    },
    "r": {
     "delete_cmd_postfix": ") ",
     "delete_cmd_prefix": "rm(",
     "library": "var_list.r",
     "varRefreshCmd": "cat(var_dic_list()) "
    }
   },
   "types_to_exclude": [
    "module",
    "function",
    "builtin_function_or_method",
    "instance",
    "_Feature"
   ],
   "window_display": false
  }
 },
 "nbformat": 4,
 "nbformat_minor": 2
}
